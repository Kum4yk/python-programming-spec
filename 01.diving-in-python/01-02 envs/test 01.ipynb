{
 "cells": [
  {
   "cell_type": "markdown",
   "metadata": {},
   "source": [
    "### 1\n",
    "Совместимы ли Python 2 и Python 3?\n",
    "\n",
    "\n",
    "- Совместимы полностью\n",
    "\n",
    "\n",
    "- Несовместимы +\n"
   ]
  },
  {
   "cell_type": "markdown",
   "metadata": {},
   "source": [
    "### 2\n",
    "На каком языке программирования написана основная реализация спецификации Python?\n",
    "\n",
    "\n",
    "- Java\n",
    "\n",
    "\n",
    "- Python\n",
    "\n",
    "\n",
    "- C +\n",
    "\n"
   ]
  },
  {
   "cell_type": "markdown",
   "metadata": {},
   "source": [
    "### 3\n",
    "Какое расширение обычно дают файлам с кодом на Python?\n",
    "\n",
    "- py"
   ]
  },
  {
   "cell_type": "markdown",
   "metadata": {},
   "source": [
    "### 4\n",
    "Как пишутся комментарии в Python?\n",
    "\n",
    "- $#$ это комментарий\n",
    "\n",
    "\n",
    "- /* это комментарий */\n",
    "\n"
   ]
  },
  {
   "cell_type": "markdown",
   "metadata": {},
   "source": [
    "### 5\n",
    "Какие имена переменных правильные?\n",
    "\n",
    "- _name +\n",
    "\n",
    "\n",
    "- !name\n",
    "\n",
    "\n",
    "- name +\n",
    "\n",
    "\n",
    "- 1name\n",
    "\n"
   ]
  },
  {
   "cell_type": "markdown",
   "metadata": {},
   "source": [
    "### 6\n",
    "bool(0.000001) - True или False?\n",
    "\n",
    "\n",
    "- True\n",
    "\n"
   ]
  },
  {
   "cell_type": "markdown",
   "metadata": {},
   "source": [
    "### 7\n",
    "Что получится в результате выполнения среза [0:1] для строки \"привет\"?\n",
    "\n",
    "\n",
    "- \"п\"\n",
    "\n"
   ]
  },
  {
   "cell_type": "markdown",
   "metadata": {},
   "source": [
    "### 8\n",
    "Какая функция позволяет считать ввод пользователя из терминала?\n",
    "\n",
    "- input()"
   ]
  },
  {
   "cell_type": "markdown",
   "metadata": {},
   "source": [
    "### 9\n",
    "Какой метод превратит байтовую строку в строку?\n",
    "\n",
    "- decode"
   ]
  },
  {
   "cell_type": "markdown",
   "metadata": {},
   "source": [
    "### 10\n",
    "Чему будет равен pi_fmt?\n",
    "\n",
    "\n",
    "- Строке \"3.14\""
   ]
  },
  {
   "cell_type": "markdown",
   "metadata": {},
   "source": [
    "### 11\n",
    "Предположим, есть пакет foo, в котором находится модуль bar.py, внутри bar.py определена функция с именем run. Какая конструкция импорта является правильной?\n",
    "\n",
    "- from foo.bar import run"
   ]
  },
  {
   "cell_type": "markdown",
   "metadata": {},
   "source": [
    "### 12\n",
    "Сколько раз напечатаются идиомы Python?\n",
    "\n",
    "- 1"
   ]
  },
  {
   "cell_type": "markdown",
   "metadata": {},
   "source": [
    "### 13\n",
    "Зачем нужен virtualenv (виртуальное окружение)?\n",
    "\n",
    "\n",
    "- Изоляция зависимостей"
   ]
  },
  {
   "cell_type": "markdown",
   "metadata": {},
   "source": [
    "### 14\n",
    "- pep"
   ]
  },
  {
   "cell_type": "markdown",
   "metadata": {},
   "source": [
    "### 15 \n",
    "Что содержат файлы с расширением .pyc?\n",
    "\n",
    "\n",
    "- Код на Python, cкомпилированный в байткод"
   ]
  }
 ],
 "metadata": {
  "kernelspec": {
   "display_name": "Python 3",
   "language": "python",
   "name": "python3"
  },
  "language_info": {
   "codemirror_mode": {
    "name": "ipython",
    "version": 3
   },
   "file_extension": ".py",
   "mimetype": "text/x-python",
   "name": "python",
   "nbconvert_exporter": "python",
   "pygments_lexer": "ipython3",
   "version": "3.7.3"
  }
 },
 "nbformat": 4,
 "nbformat_minor": 2
}
