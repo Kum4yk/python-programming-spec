{
 "cells": [
  {
   "cell_type": "markdown",
   "metadata": {},
   "source": [
    "### 1\n",
    "Отметьте все исключения стандартной библиотеки Python\n",
    "\n",
    "\n",
    "- RequestException\n",
    "\n",
    "\n",
    "- KeyboardInterrupt $\\large \\checkmark$\n",
    "\n",
    "\n",
    "- ValueError $\\large \\checkmark$\n",
    "\n",
    "\n",
    "- IndexError $\\large \\checkmark$\n",
    " "
   ]
  },
  {
   "cell_type": "markdown",
   "metadata": {},
   "source": [
    "### 2\n",
    "Какие из методов генерации исключения разрешены в Python?\n",
    "\n",
    "\n",
    "- raise None\n",
    "\n",
    "\n",
    "- raise ValueError(\"error\") $\\large \\checkmark$\n",
    "\n",
    "\n",
    "- raise ValueError $\\large \\checkmark$\n",
    "\n",
    "\n",
    "- raise \"ValueError\"\n"
   ]
  },
  {
   "cell_type": "markdown",
   "metadata": {},
   "source": [
    "### 3\n",
    "Обращение к несуществующему атрибуту экземпляра\n",
    "\n",
    "\n",
    "- вернет None\n",
    "\n",
    "\n",
    "- сгенерирует исключение KeyError\n",
    "\n",
    "\n",
    "- вернет False\n",
    "\n",
    "\n",
    "- сгенерирует исключение AttributeError $\\large \\checkmark$"
   ]
  },
  {
   "cell_type": "markdown",
   "metadata": {},
   "source": [
    "### 4\n",
    "Отметьте верные утверждения про classmethod\n",
    "\n",
    "\n",
    "- Метод первым аргументом принимает класс $\\large \\checkmark$\n",
    "\n",
    "\n",
    "- К этому методу можно обращаться от экземпляра класса  $\\large \\checkmark$ $\\large \\checkmark$\n",
    "\n",
    "\n",
    "- Метод первым аргументом принимает ссылку на экземпляр класса\n",
    "\n",
    "\n",
    "- К этому методу можно обращаться от имени класса $\\large \\checkmark$\n",
    "\n",
    "\n",
    "- Метод не принимает дополнительных аргументов кроме указанных программистом"
   ]
  },
  {
   "cell_type": "markdown",
   "metadata": {},
   "source": [
    "### 5\n",
    "Отметьте верные утверждения про staticmethod\n",
    "\n",
    "\n",
    "- Метод не принимает дополнительных аргументов кроме указанных программистом $\\large \\checkmark$\n",
    "\n",
    "\n",
    "- К этому методу можно обращаться от экземпляра класса $\\large \\checkmark$\n",
    "\n",
    "\n",
    "- К этому методу можно обращаться от имени класса $\\large \\checkmark$\n",
    "\n",
    "\n",
    "- Метод первым аргументом принимает класс\n",
    "\n",
    "\n",
    "- Метод первым аргументом принимает ссылку на экземпляр класса\n"
   ]
  },
  {
   "cell_type": "markdown",
   "metadata": {},
   "source": [
    "### 6\n",
    "Для чего используются @property?\n",
    "\n",
    "\n",
    "- Чтобы делать атрибуты приватными\n",
    "\n",
    "\n",
    "- Чтобы делать методы приватными\n",
    "\n",
    "\n",
    "- Чтобы создать вычисляемый атрибут $\\large \\checkmark$"
   ]
  },
  {
   "cell_type": "markdown",
   "metadata": {},
   "source": [
    "### 7\n",
    "Если имя метода в классе начинается с символа нижнего подчеркивания, например: _get_name\n",
    "\n",
    "\n",
    "- обращаться к методу объекта не рекомендуется, так как метод не считается публичным API класса $\\large \\checkmark$\n",
    "\n",
    "\n",
    "- если вызвать метод у экземпляра класса, то сгенерируется исключение AttributeError\n",
    "\n",
    "\n",
    "- символ нижнего подчеркивания в начале метода не добавляет никакого дополнительного значения"
   ]
  },
  {
   "cell_type": "markdown",
   "metadata": {},
   "source": [
    "### 8\n",
    "Можно ли использовать экземпляры классов в качестве ключей словаря (dict)?\n",
    "\n",
    "\n",
    "- Нет\n",
    "\n",
    "\n",
    "- Да $\\large \\checkmark$"
   ]
  },
  {
   "cell_type": "markdown",
   "metadata": {},
   "source": [
    "### 9\n",
    "Можно ли передавать экземпляр класса как аргумент в функцию?\n",
    "\n",
    "\n",
    "- Да $\\large \\checkmark$\n",
    "\n",
    "\n",
    "- Нет\n"
   ]
  },
  {
   "cell_type": "markdown",
   "metadata": {},
   "source": [
    "### 10\n",
    "Предположим есть базовый класс питомец - Pet и класс наследник - Cat. Отметьте варианты, которые вернут True\n",
    "\n",
    "\n",
    "- issubclass(Cat, object) $\\large \\checkmark$\n",
    "\n",
    "\n",
    "- isinstance(Cat(), Pet) $\\large \\checkmark$\n",
    "\n",
    "\n",
    "- issubclass(Cat, Pet) $\\large \\checkmark$\n",
    "\n",
    "\n",
    "- isinstance(Cat(), Cat) $\\large \\checkmark$\n",
    "\n",
    "\n",
    "- issubclass(Pet, Cat) "
   ]
  }
 ],
 "metadata": {
  "kernelspec": {
   "display_name": "Python 3",
   "language": "python",
   "name": "python3"
  },
  "language_info": {
   "codemirror_mode": {
    "name": "ipython",
    "version": 3
   },
   "file_extension": ".py",
   "mimetype": "text/x-python",
   "name": "python",
   "nbconvert_exporter": "python",
   "pygments_lexer": "ipython3",
   "version": "3.7.3"
  }
 },
 "nbformat": 4,
 "nbformat_minor": 2
}
