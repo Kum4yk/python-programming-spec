{
 "cells": [
  {
   "cell_type": "markdown",
   "metadata": {},
   "source": [
    "### 1\n",
    "Для чего нужны контекстные менеджеры?\n",
    "\n",
    "\n",
    "- Они управляют переключением контекста между модулями\n",
    "\n",
    "\n",
    "- Они управляют переключением контекста между функциями $\\large \\checkmark$\n",
    "\n",
    "\n",
    "- Они используются для определения логики в начале и конце блока кода$\\large \\checkmark$"
   ]
  },
  {
   "cell_type": "markdown",
   "metadata": {},
   "source": [
    "### 2\n",
    "Что такое дескриптор?\n",
    "\n",
    "\n",
    "- Объект с методами __get__/__set__/__delete__ $\\large \\checkmark$\n",
    "\n",
    "\n",
    "- Описание класса\n",
    "\n",
    "\n",
    "- Метод доступа к атрибутам класса\n",
    "\n",
    "\n",
    "- Функция с yield"
   ]
  },
  {
   "cell_type": "markdown",
   "metadata": {},
   "source": [
    "### 3\n",
    "Как закончить исполнение итератора?\n",
    "\n",
    "\n",
    "- Вернуть None\n",
    "\n",
    "\n",
    "- Выбросить исключение StopIteration $\\large \\checkmark$\n",
    "\n",
    "\n",
    "- Вызвать метод __exit__"
   ]
  },
  {
   "cell_type": "markdown",
   "metadata": {},
   "source": [
    "### 4\n",
    "Для чего нужны метаклассы?\n",
    "\n",
    "\n",
    "- Для управления процессом создания классов $\\large \\checkmark$\n",
    "\n",
    "\n",
    "- Для создания метаобъектов\n",
    "\n",
    "\n",
    "- Для создания дескрипторов"
   ]
  },
  {
   "cell_type": "markdown",
   "metadata": {},
   "source": [
    "### 5\n",
    "С помощью какого оператора можно получить значение из __enter__?\n",
    "\n",
    "\n",
    "- as $\\large \\checkmark$\n",
    "\n",
    "\n",
    "- to\n",
    "\n",
    "\n",
    "- from"
   ]
  },
  {
   "cell_type": "markdown",
   "metadata": {},
   "source": [
    "### 6\n",
    "Метод setUp у наследующегося от TestCase класса\n",
    "\n",
    "\n",
    "- вызывается перед запуском тестового класса\n",
    "\n",
    "\n",
    "- нужен для подготовки данных перед запуском тестов $\\large \\checkmark$\n",
    "\n",
    "\n",
    "- используется для объявления тестовых методов\n",
    "\n",
    "\n",
    "- вызывается перед запуском каждого тестового метода $\\large \\checkmark$"
   ]
  },
  {
   "cell_type": "markdown",
   "metadata": {},
   "source": [
    "### 7\n",
    "С помощью pdb можно\n",
    "\n",
    "\n",
    "- выводить значения переменных $\\large \\checkmark$\n",
    "\n",
    "\n",
    "- ставить брейкпоинты $\\large \\checkmark$\n",
    "\n",
    "\n",
    "- пошагово выполнять программу $\\large \\checkmark$\n",
    "\n",
    "\n",
    "- запускать тесты $\\large \\checkmark$\n"
   ]
  }
 ],
 "metadata": {
  "kernelspec": {
   "display_name": "Python 3",
   "language": "python",
   "name": "python3"
  },
  "language_info": {
   "codemirror_mode": {
    "name": "ipython",
    "version": 3
   },
   "file_extension": ".py",
   "mimetype": "text/x-python",
   "name": "python",
   "nbconvert_exporter": "python",
   "pygments_lexer": "ipython3",
   "version": "3.7.3"
  }
 },
 "nbformat": 4,
 "nbformat_minor": 2
}
