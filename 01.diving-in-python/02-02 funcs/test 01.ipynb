{
 "cells": [
  {
   "cell_type": "markdown",
   "metadata": {},
   "source": [
    "### 1\n",
    "Можно ли использовать изменяемые объекты в качестве значений по умолчанию в функциях?\n",
    "\n",
    "\n",
    "- Нет, случится синтаксическая ошибка\n",
    "\n",
    "\n",
    "- Да, но это может привести к неочевидным ошибкам $\\large \\checkmark$"
   ]
  },
  {
   "cell_type": "markdown",
   "metadata": {},
   "source": [
    "### 2\n",
    "Выберите верные утверждения про кортежи:\n",
    "\n",
    "\n",
    "- проверка на вхождение элемента в кортеж происходит за линейное время $\\large \\checkmark$\n",
    "\n",
    "\n",
    "- кортежи могут содержать элементы различных типов $\\large \\checkmark$\n",
    "\n",
    "\n",
    "- кортежи неизменяемые $\\large \\checkmark$\n",
    "\n",
    "\n",
    "- проверка на вхождение элемента в кортеж происходит за константное время\n",
    "\n",
    "\n",
    "- кортежи изменяемые\n"
   ]
  },
  {
   "cell_type": "markdown",
   "metadata": {},
   "source": [
    "### 3\n",
    "Какой записи эквивалентно применение декоратора?\n",
    "\n",
    "\n",
    "- def login_required(send_feedback)(request)\n",
    "\n",
    "\n",
    "- send_feedback = login_required(send_feedback) $\\large \\checkmark$\n",
    "\n",
    "\n",
    "- login_required = send_feedback(login_required)\n",
    "\n",
    "\n",
    "- def login_required(send_feedback)"
   ]
  },
  {
   "cell_type": "markdown",
   "metadata": {},
   "source": [
    "### 4\n",
    "Для чего используются декораторы?\n",
    "\n",
    "\n",
    "- Чтобы иметь возможность импортировать функцию в другой модуль\n",
    "\n",
    "\n",
    "- Для эффективного использования памяти при итерации \n",
    "\n",
    "\n",
    "- Для модификации поведения функций $\\large \\checkmark$"
   ]
  },
  {
   "cell_type": "markdown",
   "metadata": {},
   "source": [
    "### 5\n",
    "Выберите верные утверждения про множества:\n",
    "\n",
    "\n",
    "- множества изменяемые $\\large \\checkmark$\n",
    "\n",
    "\n",
    "- проверка на вхождение элемента в множество происходит за константное время $\\large \\checkmark$\n",
    "\n",
    "\n",
    "- проверка на вхождение элемента в множество происходит за линейное время\n",
    "\n",
    "\n",
    "- множества неизменяемые"
   ]
  },
  {
   "cell_type": "markdown",
   "metadata": {},
   "source": [
    "### 6\n",
    "Что происходит при итерации по генератору?\n",
    "\n",
    "\n",
    "- Каждую итерацию вызывается функция next, и генератор исполняется с начала\n",
    "\n",
    "\n",
    "- Каждую итерацию вызывается функция next, и исполнение генератора возобновляется с момента после yield  $\\large \\checkmark$\n",
    "\n",
    "\n",
    "- Итерация происходит по списку значений, который вернул генератор при вызове"
   ]
  }
 ],
 "metadata": {
  "kernelspec": {
   "display_name": "Python 3",
   "language": "python",
   "name": "python3"
  },
  "language_info": {
   "codemirror_mode": {
    "name": "ipython",
    "version": 3
   },
   "file_extension": ".py",
   "mimetype": "text/x-python",
   "name": "python",
   "nbconvert_exporter": "python",
   "pygments_lexer": "ipython3",
   "version": "3.7.3"
  }
 },
 "nbformat": 4,
 "nbformat_minor": 2
}
