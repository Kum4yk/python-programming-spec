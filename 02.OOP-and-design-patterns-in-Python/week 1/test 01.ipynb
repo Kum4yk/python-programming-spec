{
 "cells": [
  {
   "cell_type": "markdown",
   "metadata": {},
   "source": [
    "### 1\n",
    "Для чего необходимы утверждения assert в языке программирования?\n",
    "\n",
    "\n",
    "\n",
    "- Для отслеживания контрактов функций, проверки инвариантов и контроля за недопустимыми состояниями объектов.\n",
    "\n"
   ]
  },
  {
   "cell_type": "markdown",
   "metadata": {},
   "source": [
    "### 2\n",
    "Можно ли перехватывать исключение AssertionError?\n",
    "\n",
    "\n",
    "- Можно, но никогда не следует этого делать.\n",
    "\n"
   ]
  },
  {
   "cell_type": "markdown",
   "metadata": {},
   "source": [
    "### 3 \n",
    "Корректно ли такое использование утверждения?\n",
    "\n",
    "- Нет\n",
    "\n"
   ]
  },
  {
   "cell_type": "code",
   "execution_count": 5,
   "metadata": {},
   "outputs": [
    {
     "name": "stdout",
     "output_type": "stream",
     "text": [
      "Enter positive number, please: 5\n"
     ]
    }
   ],
   "source": [
    "x = int(input(\"Enter positive number, please: \"))\n",
    "assert x > 0, \"Value should be positive!\""
   ]
  },
  {
   "cell_type": "markdown",
   "metadata": {},
   "source": [
    "### 4\n",
    "Какой способ описания контракта правильный?\n",
    "\n",
    "(При использовании библиотеки PyContracts)\n",
    "\n",
    "- Подходит любой вариант из описанных выше.\n",
    "\n"
   ]
  },
  {
   "cell_type": "markdown",
   "metadata": {},
   "source": [
    "### 5\n",
    "Дана функция, вычисляющая наибольший общий делитель при помощи алгоритма Евклида.\n",
    "\n",
    "Сделайте проверку входных параметров функции при помощи assert. Оба параметра должны быть положительными целыми числами.\n",
    "\n",
    "**в изначальном алгоритме была ошибка**"
   ]
  },
  {
   "cell_type": "code",
   "execution_count": 12,
   "metadata": {},
   "outputs": [],
   "source": [
    "def gcd(a, b):\n",
    "    assert type(a) == int and type(b) == int and a > 0  and b > 0 \n",
    "    while b != 0:\n",
    "        r = a % b\n",
    "        a = b\n",
    "        b = r\n",
    "    return a"
   ]
  },
  {
   "cell_type": "code",
   "execution_count": 16,
   "metadata": {},
   "outputs": [
    {
     "data": {
      "text/plain": [
       "5"
      ]
     },
     "execution_count": 16,
     "metadata": {},
     "output_type": "execute_result"
    }
   ],
   "source": [
    "gcd(10, 5)"
   ]
  },
  {
   "cell_type": "markdown",
   "metadata": {},
   "source": [
    "### 6\n",
    "Новый контракт при использовании библиотеки PyContracts:\n",
    "\n",
    "- Описывается как функция или строка, которую нужно передать в качестве параметра функции new_contract, либо использовать new_contract как декоратор.\n",
    "\n"
   ]
  },
  {
   "cell_type": "markdown",
   "metadata": {},
   "source": [
    "### 7\n",
    "Какое предусловие выдвигает данный контракт к входному параметру x?\n",
    "\n",
    "-  Параметр x должен быть непустым списком, состоящим из чисел в диапазоне от 1 до 1000. Числа могут быть целыми или дробными.\n",
    "\n",
    "\n",
    "\n"
   ]
  },
  {
   "cell_type": "code",
   "execution_count": null,
   "metadata": {},
   "outputs": [],
   "source": [
    "@contract\n",
    "def foo(x:'list[>0]((float|int),>=1,<=1000)'):\n",
    "    pass"
   ]
  },
  {
   "cell_type": "markdown",
   "metadata": {},
   "source": [
    "### 8\n",
    "Какое предусловие выдвигает данный контракт к входному параметру y?\n",
    "\n",
    "- Параметр y должен быть непустым множеством, состоящим из положительных целых и отрицательных дробных чисел.\n"
   ]
  },
  {
   "cell_type": "code",
   "execution_count": null,
   "metadata": {},
   "outputs": [],
   "source": [
    "@contract\n",
    "def foo(y: 'set[>0]((int,>0)|(float,<0))'):\n",
    "    pass"
   ]
  },
  {
   "cell_type": "markdown",
   "metadata": {},
   "source": [
    "### 9\n",
    "Какое предусловие выдвигает данный контракт к входному параметру z?\n",
    "\n",
    "- Параметр z должен быть либо словарём с ключами из целых чисел, либо словарём с ключами из дробных чисел. Требований на тип хранимого по ключу значения не накладывается.\n",
    "\n"
   ]
  },
  {
   "cell_type": "code",
   "execution_count": null,
   "metadata": {},
   "outputs": [],
   "source": [
    "@contract\n",
    "def foo(z: 'dict(int:)|dict(float:)'):\n",
    "    return z"
   ]
  }
 ],
 "metadata": {
  "kernelspec": {
   "display_name": "Python 3",
   "language": "python",
   "name": "python3"
  },
  "language_info": {
   "codemirror_mode": {
    "name": "ipython",
    "version": 3
   },
   "file_extension": ".py",
   "mimetype": "text/x-python",
   "name": "python",
   "nbconvert_exporter": "python",
   "pygments_lexer": "ipython3",
   "version": "3.7.3"
  }
 },
 "nbformat": 4,
 "nbformat_minor": 2
}
