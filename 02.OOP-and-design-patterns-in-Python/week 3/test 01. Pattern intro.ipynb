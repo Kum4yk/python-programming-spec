{
 "cells": [
  {
   "cell_type": "markdown",
   "metadata": {},
   "source": [
    "### 1 \n",
    "Для чего используются паттерны проектирования?\n",
    "\n",
    "\n",
    "- Для решения часто встречающихся на практике задач\n"
   ]
  },
  {
   "cell_type": "markdown",
   "metadata": {},
   "source": [
    "### 2\n",
    "В какой книге впервые описано применение паттернов в программировании?\n",
    "\n",
    "\n",
    "- Design Patterns: Elements of Reusable Object-Oriented Software\n",
    "\n"
   ]
  },
  {
   "cell_type": "markdown",
   "metadata": {},
   "source": [
    "### 3\n",
    "В чем преимущество использования паттернов перед написанием кода \"с нуля\"?\n",
    "\n",
    "\n",
    "- Использование проверенных временем решений $\\large \\checkmark$\n",
    "\n",
    "\n",
    "- Адаптируемость паттернов под задачи ? \n",
    "\n",
    "\n",
    "- Все возможные ошибки исправлены поколениями программистов $\\large \\checkmark$"
   ]
  },
  {
   "cell_type": "markdown",
   "metadata": {},
   "source": [
    "### 4\n",
    "Как называются самые низкоуровневые паттерны\n",
    "\n",
    "\n",
    "- Идиомы"
   ]
  },
  {
   "cell_type": "markdown",
   "metadata": {},
   "source": [
    "### 5\n",
    "Какие из указанных паттернов относятся к структурным паттернам?\n",
    "\n",
    "\n",
    "- Компоновщик  $\\large \\checkmark$\n",
    "\n",
    "\n",
    "- Одиночка\n",
    "\n",
    "\n",
    "- Наблюдатель\n",
    "\n",
    "\n",
    "- Хранитель\n",
    "\n",
    "\n",
    "- Фасад $\\large \\checkmark$\n",
    "\n",
    "\n",
    "- Абстрактная фабрика\n",
    "\n",
    "\n",
    "- Декоратор $\\large \\checkmark$\n",
    "\n",
    "\n",
    "- Цепочка обязанностей\n"
   ]
  },
  {
   "cell_type": "markdown",
   "metadata": {},
   "source": [
    "### 6\n",
    "Какие из указанных паттернов относятся к поведенческим паттернам?\n",
    "\n",
    "\n",
    "- Декоратор\n",
    "\n",
    "\n",
    "- Абстрактная фабрика\n",
    "\n",
    "\n",
    "- Одиночка\n",
    "\n",
    "\n",
    "- Хранитель $\\large \\checkmark$\n",
    "\n",
    "\n",
    "- Наблюдатель $\\large \\checkmark$\n",
    "\n",
    "\n",
    "- Цепочка обязанностей $\\large \\checkmark$\n",
    "\n",
    "\n",
    "- Фасад\n",
    "\n",
    "\n",
    "- Компоновщик"
   ]
  },
  {
   "cell_type": "markdown",
   "metadata": {},
   "source": [
    "### 7\n",
    "Для чего применяются порождающие шаблоны?\n",
    "\n",
    "\n",
    "- Модифицируют структуру объектов\n",
    "\n",
    "\n",
    "- Описывают способы реализации взаимодействия между объектами различных типов ?\n",
    "\n",
    "\n",
    "- Используются при создании различных объектов $\\large \\checkmark$"
   ]
  }
 ],
 "metadata": {
  "kernelspec": {
   "display_name": "Python 3",
   "language": "python",
   "name": "python3"
  },
  "language_info": {
   "codemirror_mode": {
    "name": "ipython",
    "version": 3
   },
   "file_extension": ".py",
   "mimetype": "text/x-python",
   "name": "python",
   "nbconvert_exporter": "python",
   "pygments_lexer": "ipython3",
   "version": "3.7.3"
  }
 },
 "nbformat": 4,
 "nbformat_minor": 2
}
