{
 "cells": [
  {
   "cell_type": "markdown",
   "metadata": {},
   "source": [
    "### 1\n",
    "Что из родительского класса не наследуется потомком?\n",
    "\n",
    "\n",
    "- Приватные переменные родительского класса $\\large \\checkmark$\n",
    "\n",
    "\n",
    "- Приватные методы родительского класса $\\large \\checkmark$\n",
    "\n",
    "\n"
   ]
  },
  {
   "cell_type": "markdown",
   "metadata": {},
   "source": [
    "### 2\n",
    "Что относится к сильным сторонам наследования?\n",
    "\n",
    "\n",
    "- Отсутствие необходимости переписывания всех классов-потомков при изменениях в базовом классе $\\large \\checkmark$\n",
    "\n",
    "\n",
    "- Отсутствие необходимости дублировать код $\\large \\checkmark$\n",
    "\n"
   ]
  },
  {
   "cell_type": "markdown",
   "metadata": {},
   "source": [
    "### 3\n",
    "В чем заключается множественное наследование?\n",
    "\n",
    "\n",
    "- У одного класса-потомка есть несколько родительских классов $\\large \\checkmark$\n",
    "\n"
   ]
  },
  {
   "cell_type": "markdown",
   "metadata": {},
   "source": [
    "### 4\n",
    "Каким методом разрешается проблема Ромба Смерти?\n",
    "\n",
    "\n",
    "- С3-линеаризация $\\large \\checkmark$\n",
    "\n",
    "\n"
   ]
  },
  {
   "cell_type": "markdown",
   "metadata": {},
   "source": [
    "### 5\n",
    "Зачем нужны абстрактные классы?\n",
    "\n",
    "\n",
    "\n",
    "- Для реализации полиморфизма  $\\large \\checkmark$\n",
    "\n",
    "\n",
    "- Для создания классов, которые не предполагают создания экземпляров $\\large \\checkmark$"
   ]
  },
  {
   "cell_type": "markdown",
   "metadata": {},
   "source": [
    "### 6\n",
    "Для чего применяются абстрактные методы?\n",
    "\n",
    "\n",
    "- Чтобы определить интерфейс, реализацию для которого необходимо реализовать в классах потомках  $\\large \\checkmark$\n",
    "\n",
    "\n",
    "- Чтобы некоторый метод при наследовании был передан классу-потомку\n",
    "\n",
    "\n",
    "- Для указания конкретной реализации интерфейса на этапе выполнения кода\n",
    "\n",
    "\n",
    "- Чтобы предотвратить создание экземпляра класса ?"
   ]
  },
  {
   "cell_type": "markdown",
   "metadata": {},
   "source": [
    "### 7\n",
    "Что позволяют делать виртуальные методы?\n",
    "\n",
    "\n",
    "- Позволяют определить интерфейс, реализацию для которого необходимо реализовать в классах потомках\n",
    "\n",
    "\n",
    "- Позволяют указывать конкретную реализацию интерфейса на этапе выполнения кода $\\large \\checkmark$\n",
    "\n",
    "\n",
    "- Позволяют определить функцию, которая может не иметь реализации \n",
    "\n",
    "\n",
    "- Позволяют предотвратить создание экземпляра класса"
   ]
  },
  {
   "cell_type": "markdown",
   "metadata": {},
   "source": [
    "###  8\n",
    "Какая библиотека используется для работы с абстрактными классами и методами?\n",
    "\n",
    "\n",
    "- xyz\n",
    "\n",
    "\n",
    "- abc $\\large \\checkmark$\n",
    "\n",
    "\n",
    "- abs\n",
    "\n",
    "\n",
    "- abstract"
   ]
  },
  {
   "cell_type": "markdown",
   "metadata": {},
   "source": [
    "### 9\n",
    "Что выведет приведенный ниже код?\n",
    "\n",
    "\n",
    "- Ошибку, так как нет реализации абстрактного метода $\\large \\checkmark$\n",
    "\n",
    "\n",
    "- 2\n",
    "\n",
    "\n",
    "- 12\n",
    "\n",
    "\n",
    "- 9 \n",
    "\n",
    "\n",
    "- Ошибку, так как не определено значение var2 для B"
   ]
  },
  {
   "cell_type": "code",
   "execution_count": 30,
   "metadata": {},
   "outputs": [
    {
     "ename": "TypeError",
     "evalue": "Can't instantiate abstract class B with abstract methods do_something",
     "output_type": "error",
     "traceback": [
      "\u001b[1;31m---------------------------------------------------------------------------\u001b[0m",
      "\u001b[1;31mTypeError\u001b[0m                                 Traceback (most recent call last)",
      "\u001b[1;32m<ipython-input-30-7178348d95a9>\u001b[0m in \u001b[0;36m<module>\u001b[1;34m\u001b[0m\n\u001b[0;32m     17\u001b[0m \u001b[1;33m\u001b[0m\u001b[0m\n\u001b[0;32m     18\u001b[0m \u001b[1;33m\u001b[0m\u001b[0m\n\u001b[1;32m---> 19\u001b[1;33m \u001b[0mobj\u001b[0m \u001b[1;33m=\u001b[0m \u001b[0mB\u001b[0m\u001b[1;33m(\u001b[0m\u001b[1;33m)\u001b[0m\u001b[1;33m\u001b[0m\u001b[1;33m\u001b[0m\u001b[0m\n\u001b[0m\u001b[0;32m     20\u001b[0m \u001b[0mobj\u001b[0m\u001b[1;33m.\u001b[0m\u001b[0mdo_something\u001b[0m\u001b[1;33m(\u001b[0m\u001b[1;33m)\u001b[0m\u001b[1;33m\u001b[0m\u001b[1;33m\u001b[0m\u001b[0m\n",
      "\u001b[1;31mTypeError\u001b[0m: Can't instantiate abstract class B with abstract methods do_something"
     ]
    }
   ],
   "source": [
    "from abc import ABC, abstractmethod\n",
    "\n",
    "\n",
    "class A(ABC):\n",
    "    def __init__(self):\n",
    "        self.var1 = 5\n",
    "        self.var2 = 7\n",
    "  \n",
    "    @abstractmethod\n",
    "    def do_something(self):\n",
    "        print(self.var1 + self.var2)\n",
    "\n",
    "\n",
    "class B(A):\n",
    "    def __init__(self):\n",
    "        self.var1 = 2\n",
    "\n",
    "\n",
    "obj = B()\n",
    "obj.do_something()"
   ]
  }
 ],
 "metadata": {
  "kernelspec": {
   "display_name": "Python 3",
   "language": "python",
   "name": "python3"
  },
  "language_info": {
   "codemirror_mode": {
    "name": "ipython",
    "version": 3
   },
   "file_extension": ".py",
   "mimetype": "text/x-python",
   "name": "python",
   "nbconvert_exporter": "python",
   "pygments_lexer": "ipython3",
   "version": "3.7.3"
  }
 },
 "nbformat": 4,
 "nbformat_minor": 2
}
