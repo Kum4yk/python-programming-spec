{
 "cells": [
  {
   "cell_type": "markdown",
   "metadata": {},
   "source": [
    "### 1\n",
    "Что такое UML?\n",
    "\n",
    "\n",
    "- Язык моделирования\n"
   ]
  },
  {
   "cell_type": "markdown",
   "metadata": {},
   "source": [
    "### 2\n",
    "Что относится к типам UML-диаграмм?\n",
    "\n",
    "\n",
    "- Диаграмма рассеяния\n",
    "\n",
    "\n",
    " - Диаграмма классов $\\large \\checkmark$\n",
    "\n",
    "\n",
    "- Диаграмма развертывания $\\large \\checkmark$\n",
    "\n",
    "\n",
    "- Биржевые диаграммы\n",
    "\n",
    "\n",
    "- Диаграмма взаимодействия $\\large \\checkmark$"
   ]
  },
  {
   "cell_type": "markdown",
   "metadata": {},
   "source": [
    "### 3\n",
    "Что не относится к элементам UML-диаграмм\n",
    "\n",
    "\n",
    "- Изображение\n"
   ]
  },
  {
   "cell_type": "markdown",
   "metadata": {},
   "source": [
    "### 4\n",
    "Как обозначаются приватные атрибуты классов в UML-диаграммах?\n",
    "\n",
    "\n",
    "- Символом -"
   ]
  },
  {
   "cell_type": "markdown",
   "metadata": {},
   "source": [
    "### 5\n",
    "Какой стрелкой на UML диаграммах обозначается имплементация?\n",
    "- $------|>$"
   ]
  },
  {
   "cell_type": "markdown",
   "metadata": {},
   "source": [
    "### 6\n",
    "Что обозначается на-UML диаграммах следующей стрелкой:\n",
    "\n",
    "\n",
    "- Агрегация\n",
    "\n"
   ]
  }
 ],
 "metadata": {
  "kernelspec": {
   "display_name": "Python 3",
   "language": "python",
   "name": "python3"
  },
  "language_info": {
   "codemirror_mode": {
    "name": "ipython",
    "version": 3
   },
   "file_extension": ".py",
   "mimetype": "text/x-python",
   "name": "python",
   "nbconvert_exporter": "python",
   "pygments_lexer": "ipython3",
   "version": "3.7.3"
  }
 },
 "nbformat": 4,
 "nbformat_minor": 2
}
